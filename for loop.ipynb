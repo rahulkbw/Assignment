{
 "cells": [
  {
   "cell_type": "code",
   "execution_count": 2,
   "id": "92253d2c-0c60-4d7d-b438-ac874e195b7e",
   "metadata": {},
   "outputs": [],
   "source": [
    "l=[1,2,3,4,5,6,9,8,7,5]"
   ]
  },
  {
   "cell_type": "code",
   "execution_count": 11,
   "id": "424c765b-5c54-4e6a-ba42-2166b6f5b95e",
   "metadata": {},
   "outputs": [
    {
     "name": "stdout",
     "output_type": "stream",
     "text": [
      "2\n",
      "3\n",
      "4\n",
      "5\n",
      "6\n",
      "7\n",
      "10\n",
      "9\n",
      "8\n",
      "6\n",
      "7\n",
      "8\n"
     ]
    },
    {
     "data": {
      "text/plain": [
       "[2, 3, 4, 5, 6, 7, 10, 9, 8, 6, 7, 8]"
      ]
     },
     "execution_count": 11,
     "metadata": {},
     "output_type": "execute_result"
    }
   ],
   "source": [
    "l1=[]\n",
    "for i in l:\n",
    "    print(i+1)\n",
    "    l1.append(i+1)   \n",
    "l1    "
   ]
  },
  {
   "cell_type": "code",
   "execution_count": 12,
   "id": "579e96ef-850c-4a58-ad49-8e489ad3f541",
   "metadata": {},
   "outputs": [],
   "source": [
    "l= [\"sudh\",\"kumer\",\"pwskills\",\"course\"]"
   ]
  },
  {
   "cell_type": "code",
   "execution_count": 14,
   "id": "e8e31c7a-7445-44ca-b89d-3fc66add0ed6",
   "metadata": {},
   "outputs": [
    {
     "name": "stdout",
     "output_type": "stream",
     "text": [
      "sudh\n",
      "kumer\n",
      "pwskills\n",
      "course\n"
     ]
    }
   ],
   "source": [
    "l1=[]\n",
    "for i in l:\n",
    "    print(i)\n",
    "    l1.append(i.upper())"
   ]
  },
  {
   "cell_type": "code",
   "execution_count": 15,
   "id": "a25a23f0-af14-4f40-852e-2a6a05bcbae3",
   "metadata": {},
   "outputs": [
    {
     "data": {
      "text/plain": [
       "['SUDH', 'KUMER', 'PWSKILLS', 'COURSE']"
      ]
     },
     "execution_count": 15,
     "metadata": {},
     "output_type": "execute_result"
    }
   ],
   "source": [
    "l1"
   ]
  },
  {
   "cell_type": "code",
   "execution_count": 16,
   "id": "653a7fb3-f6a7-43e8-8aa0-f0062ffd0b4a",
   "metadata": {},
   "outputs": [],
   "source": [
    "l=[1,2,3,4,5,6,9,8,7,\"rahu\",324,34.456,\"abc\"]"
   ]
  },
  {
   "cell_type": "code",
   "execution_count": 17,
   "id": "0672d446-7c7b-4fbc-a015-0caa07262006",
   "metadata": {},
   "outputs": [],
   "source": [
    "l1_num=[]\n",
    "l2_str=[]\n",
    "for i in l:\n",
    "    if type(i) == int or type(i)==float:\n",
    "        l1_num.append(i)\n",
    "    else:\n",
    "        l2_str.append(i)\n",
    "        "
   ]
  },
  {
   "cell_type": "code",
   "execution_count": 18,
   "id": "f5f7bf89-8554-48f2-9401-8c928e0a77dc",
   "metadata": {},
   "outputs": [
    {
     "data": {
      "text/plain": [
       "[1, 2, 3, 4, 5, 6, 9, 8, 7, 324, 34.456]"
      ]
     },
     "execution_count": 18,
     "metadata": {},
     "output_type": "execute_result"
    }
   ],
   "source": [
    "l1_num"
   ]
  },
  {
   "cell_type": "code",
   "execution_count": 19,
   "id": "2ef8e1f3-09aa-45c6-8df6-6dcd85b313c9",
   "metadata": {},
   "outputs": [
    {
     "data": {
      "text/plain": [
       "['rahu', 'abc']"
      ]
     },
     "execution_count": 19,
     "metadata": {},
     "output_type": "execute_result"
    }
   ],
   "source": [
    "l2_str"
   ]
  },
  {
   "cell_type": "code",
   "execution_count": null,
   "id": "2751debc-51c0-45f8-a05f-80e63092f756",
   "metadata": {},
   "outputs": [],
   "source": []
  }
 ],
 "metadata": {
  "kernelspec": {
   "display_name": "Python 3 (ipykernel)",
   "language": "python",
   "name": "python3"
  },
  "language_info": {
   "codemirror_mode": {
    "name": "ipython",
    "version": 3
   },
   "file_extension": ".py",
   "mimetype": "text/x-python",
   "name": "python",
   "nbconvert_exporter": "python",
   "pygments_lexer": "ipython3",
   "version": "3.10.8"
  }
 },
 "nbformat": 4,
 "nbformat_minor": 5
}
